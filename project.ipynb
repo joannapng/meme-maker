{
 "cells": [
  {
   "cell_type": "code",
   "execution_count": 1,
   "metadata": {},
   "outputs": [
    {
     "name": "stdout",
     "output_type": "stream",
     "text": [
      "Compiling bilateralFilter.pyx because it changed.\n",
      "[1/1] Cythonizing bilateralFilter.pyx\n",
      "/home/ioanna/anaconda3/envs/project_env/lib/python3.11/site-packages/Cython/Compiler/Main.py:369: FutureWarning: Cython directive 'language_level' not set, using 2 for now (Py2). This will change in a later release! File: /home/ioanna/Final_Project/bilateralFilter.pyx\n",
      "  tree = Parsing.p_module(s, pxd, full_module_name)\n",
      "running build_ext\n",
      "building 'bilateralFilter' extension\n",
      "creating build\n",
      "creating build/temp.linux-x86_64-cpython-311\n",
      "gcc -pthread -B /home/ioanna/anaconda3/envs/project_env/compiler_compat -DNDEBUG -fwrapv -O2 -Wall -fPIC -O2 -isystem /home/ioanna/anaconda3/envs/project_env/include -fPIC -O2 -isystem /home/ioanna/anaconda3/envs/project_env/include -fPIC -I/home/ioanna/anaconda3/envs/project_env/include/python3.11 -c bilateralFilter.c -o build/temp.linux-x86_64-cpython-311/bilateralFilter.o -ffast-math -fopenmp\n",
      "\u001b[01m\u001b[KbilateralFilter.c:\u001b[m\u001b[K In function ‘\u001b[01m\u001b[K__pyx_pw_15bilateralFilter_1bilateralFilterFast\u001b[m\u001b[K’:\n",
      "\u001b[01m\u001b[KbilateralFilter.c:2735:21:\u001b[m\u001b[K \u001b[01;35m\u001b[Kwarning: \u001b[m\u001b[K‘\u001b[01m\u001b[K__pyx_v_wsb\u001b[m\u001b[K’ may be used uninitialized [\u001b[01;35m\u001b[K\u001b]8;;https://gcc.gnu.org/onlinedocs/gcc/Warning-Options.html#index-Wmaybe-uninitialized\u0007-Wmaybe-uninitialized\u001b]8;;\u0007\u001b[m\u001b[K]\n",
      " 2735 |             #pragma \u001b[01;35m\u001b[Komp\u001b[m\u001b[K parallel  reduction(+:__pyx_v_wsb) private(__pyx_t_10, __pyx_t_13, __pyx_t_14, __pyx_t_15, __pyx_t_16, __pyx_t_17, __pyx_t_18, __pyx_t_19, __pyx_t_20, __pyx_t_21, __pyx_t_22, __pyx_t_23, __pyx_t_24, __pyx_t_25, __pyx_t_26, __pyx_t_27, __pyx_t_28, __pyx_t_29, __pyx_t_30, __pyx_t_7) private(__pyx_filename, __pyx_lineno, __pyx_clineno) shared(__pyx_parallel_why, __pyx_parallel_exc_type, __pyx_parallel_exc_value, __pyx_parallel_exc_tb)\n",
      "      |                     \u001b[01;35m\u001b[K^~~\u001b[m\u001b[K\n",
      "\u001b[01m\u001b[KbilateralFilter.c:2385:9:\u001b[m\u001b[K \u001b[01;36m\u001b[Knote: \u001b[m\u001b[K‘\u001b[01m\u001b[K__pyx_v_wsb\u001b[m\u001b[K’ was declared here\n",
      " 2385 |   float \u001b[01;36m\u001b[K__pyx_v_wsb\u001b[m\u001b[K;\n",
      "      |         \u001b[01;36m\u001b[K^~~~~~~~~~~\u001b[m\u001b[K\n",
      "creating build/lib.linux-x86_64-cpython-311\n",
      "gcc -pthread -B /home/ioanna/anaconda3/envs/project_env/compiler_compat -shared -Wl,-rpath,/home/ioanna/anaconda3/envs/project_env/lib -Wl,-rpath-link,/home/ioanna/anaconda3/envs/project_env/lib -L/home/ioanna/anaconda3/envs/project_env/lib -Wl,-rpath,/home/ioanna/anaconda3/envs/project_env/lib -Wl,-rpath-link,/home/ioanna/anaconda3/envs/project_env/lib -L/home/ioanna/anaconda3/envs/project_env/lib build/temp.linux-x86_64-cpython-311/bilateralFilter.o -lm -o build/lib.linux-x86_64-cpython-311/bilateralFilter.cpython-311-x86_64-linux-gnu.so -fopenmp\n",
      "copying build/lib.linux-x86_64-cpython-311/bilateralFilter.cpython-311-x86_64-linux-gnu.so -> \n"
     ]
    }
   ],
   "source": [
    "%load_ext autoreload\n",
    "%autoreload 2\n",
    "%matplotlib inline\n",
    "! python setup.py build_ext --inplace"
   ]
  },
  {
   "cell_type": "code",
   "execution_count": null,
   "metadata": {},
   "outputs": [],
   "source": [
    "from layout import *\n",
    "layout = Layout()"
   ]
  },
  {
   "cell_type": "code",
   "execution_count": 3,
   "metadata": {},
   "outputs": [
    {
     "data": {
      "application/vnd.jupyter.widget-view+json": {
       "model_id": "997981dec4664d288589eb67af9dbfb9",
       "version_major": 2,
       "version_minor": 0
      },
      "text/plain": [
       "Tab(children=(VBox(children=(Label(value='Supported image types are: image/png, image/jpeg, image/tiff'), File…"
      ]
     },
     "metadata": {},
     "output_type": "display_data"
    }
   ],
   "source": [
    "layout.display()"
   ]
  }
 ],
 "metadata": {
  "kernelspec": {
   "display_name": "Python 3 (ipykernel)",
   "language": "python",
   "name": "python3"
  },
  "language_info": {
   "codemirror_mode": {
    "name": "ipython",
    "version": 3
   },
   "file_extension": ".py",
   "mimetype": "text/x-python",
   "name": "python",
   "nbconvert_exporter": "python",
   "pygments_lexer": "ipython3",
   "version": "3.11.3"
  },
  "latex_envs": {
   "LaTeX_envs_menu_present": true,
   "autoclose": false,
   "autocomplete": true,
   "bibliofile": "biblio.bib",
   "cite_by": "apalike",
   "current_citInitial": 1,
   "eqLabelWithNumbers": true,
   "eqNumInitial": 1,
   "hotkeys": {
    "equation": "Ctrl-E",
    "itemize": "Ctrl-I"
   },
   "labels_anchors": false,
   "latex_user_defs": false,
   "report_style_numbering": false,
   "user_envs_cfg": false
  },
  "toc": {
   "base_numbering": 1,
   "nav_menu": {},
   "number_sections": true,
   "sideBar": true,
   "skip_h1_title": false,
   "title_cell": "Table of Contents",
   "title_sidebar": "Contents",
   "toc_cell": false,
   "toc_position": {},
   "toc_section_display": true,
   "toc_window_display": false
  }
 },
 "nbformat": 4,
 "nbformat_minor": 2
}
